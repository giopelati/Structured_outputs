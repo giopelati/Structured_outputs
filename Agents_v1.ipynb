{
 "cells": [
  {
   "cell_type": "markdown",
   "metadata": {},
   "source": [
    "### <center> Testes de Implementação: **Ollama e Langchain** em Agentes Inteligentes <center>\n"
   ]
  },
  {
   "cell_type": "markdown",
   "metadata": {},
   "source": [
    "Importações"
   ]
  },
  {
   "cell_type": "code",
   "execution_count": 42,
   "metadata": {},
   "outputs": [
    {
     "data": {
      "text/plain": [
       "True"
      ]
     },
     "execution_count": 42,
     "metadata": {},
     "output_type": "execute_result"
    }
   ],
   "source": [
    "from langchain_community.chat_models import ChatOllama\n",
    "from langchain.prompts import ChatPromptTemplate\n",
    "from pydantic import BaseModel, Field, field_validator\n",
    "from langchain.tools import BaseTool\n",
    "from typing import Optional, Type\n",
    "from langchain.callbacks.manager import (\n",
    "    AsyncCallbackManagerForToolRun,\n",
    "    CallbackManagerForToolRun,\n",
    ")\n",
    "from langchain.tools.render import render_text_description_and_args\n",
    "import psycopg2\n",
    "from langchain.agents import initialize_agent, AgentType\n",
    "import os\n",
    "from dotenv import load_dotenv\n",
    "\n",
    "load_dotenv()"
   ]
  },
  {
   "cell_type": "markdown",
   "metadata": {},
   "source": [
    "Configuração de Tools"
   ]
  },
  {
   "cell_type": "code",
   "execution_count": 43,
   "metadata": {},
   "outputs": [],
   "source": [
    "class MatriculaInput(BaseModel):\n",
    "    user_id: int = Field(..., description=\"The user's ID, as an integer.\")\n",
    "\n",
    "    @field_validator('user_id', mode='before')\n",
    "    def convert_to_int(cls, value):\n",
    "        if isinstance(value, str):\n",
    "            cleaned_value = ''.join(filter(str.isdigit, value))\n",
    "            if cleaned_value.isdigit():\n",
    "                return int(cleaned_value)\n",
    "        if isinstance(value, int):\n",
    "            return value\n",
    "        raise ValueError(\"Input should be a valid integer.\")\n",
    "\n",
    "class ConsultaMatriculaTool(BaseTool):\n",
    "    name: str = \"ConsultaMatricula\"\n",
    "    description: str = \"Fetches a user's matriculation number from the database.\"\n",
    "    args_schema: Type[BaseModel] = MatriculaInput\n",
    "\n",
    "    def _run(\n",
    "        self,\n",
    "        user_id: int,\n",
    "        run_manager: Optional[CallbackManagerForToolRun] = None,\n",
    "    ) -> str:  # Retorne sempre uma string\n",
    "        \"\"\"Fetch the matriculation number from the database.\"\"\"\n",
    "        conn = None\n",
    "        try:\n",
    "            if isinstance(user_id, str):\n",
    "                user_id = int(''.join(filter(str.isdigit, user_id)))\n",
    "\n",
    "            conn = psycopg2.connect(os.getenv(\"URL_BD\"))\n",
    "            cursor = conn.cursor()\n",
    "\n",
    "            query = \"SELECT matricula FROM usuarios WHERE user_id = %s\"\n",
    "            cursor.execute(query, (user_id,))\n",
    "            result = cursor.fetchone()\n",
    "\n",
    "            if result:\n",
    "                return f\"The user with ID {user_id} has the matriculation number: {result[0]}.\"\n",
    "            else:\n",
    "                return f\"No matriculation number found for user ID {user_id}.\"\n",
    "\n",
    "        except ValueError:\n",
    "            return f\"Invalid input: {user_id}. Please provide a valid integer.\"\n",
    "        except Exception as e:\n",
    "            return f\"Error accessing database: {str(e)}\"\n",
    "        \n",
    "        finally:\n",
    "            if conn:\n",
    "                conn.close()"
   ]
  },
  {
   "cell_type": "code",
   "execution_count": 44,
   "metadata": {},
   "outputs": [],
   "source": [
    "response = (\n",
    "    \"Create a final answer that says if they \"\n",
    "    \"have any questions about movies or actors\"\n",
    ")\n",
    "\n",
    "\n",
    "class SmalltalkInput(BaseModel):\n",
    "    query: Optional[str] = Field(description=\"user query\")\n",
    "\n",
    "\n",
    "class SmalltalkTool(BaseTool):\n",
    "    name: str = \"Smalltalk\"\n",
    "    description: str = \"useful for when user greets you or wants to smalltalk\" \n",
    "    args_schema: Type[BaseModel] = SmalltalkInput\n",
    "\n",
    "    def _run(\n",
    "        self,\n",
    "        query: Optional[str] = None,\n",
    "        run_manager: Optional[CallbackManagerForToolRun] = None,\n",
    "    ) -> str:\n",
    "        \"\"\"Use the tool.\"\"\"\n",
    "        return response\n",
    "\n",
    "    async def _arun(\n",
    "        self,\n",
    "        query: Optional[str] = None,\n",
    "        run_manager: Optional[AsyncCallbackManagerForToolRun] = None,\n",
    "    ) -> str:\n",
    "        \"\"\"Use the tool asynchronously.\"\"\"\n",
    "        return response"
   ]
  },
  {
   "cell_type": "code",
   "execution_count": 45,
   "metadata": {},
   "outputs": [],
   "source": [
    "tools = [SmalltalkTool(), ConsultaMatriculaTool()]"
   ]
  },
  {
   "cell_type": "markdown",
   "metadata": {},
   "source": [
    "Configuração da LLM"
   ]
  },
  {
   "cell_type": "code",
   "execution_count": 46,
   "metadata": {},
   "outputs": [],
   "source": [
    "llm = ChatOllama(\n",
    "    model=\"llama3-groq-tool-use\",\n",
    "    temperature=0,\n",
    ")\n",
    "\n",
    "llm.bind(stop=[\"\\nObservation\"])\n",
    "\n",
    "system_message = f\"\"\"Answer the following questions as best you can.\n",
    "You can answer directly if the user is greeting you or similar.\n",
    "Otherise, you have access to the following tools:\n",
    "\n",
    "{render_text_description_and_args(tools).replace('{', '{{').replace('}', '}}')}\n",
    "\n",
    "The way you use the tools is by specifying a json blob.\n",
    "Specifically, this json should have a `action` key (with the name of the tool to use)\n",
    "and a `action_input` key (with the input to the tool going here).\n",
    "The only values that should be in the \"action\" field are: {[t.name for t in tools]}\n",
    "The $JSON_BLOB should only contain a SINGLE action, \n",
    "do NOT return a list of multiple actions.\n",
    "The `action_input` field should ONLY contain the required input value, \n",
    "with no additional text or explanation.\n",
    "Here is an example of a valid $JSON_BLOB:\n",
    "```\n",
    "{{{{\n",
    "    \"action\": $TOOL_NAME,\n",
    "    \"action_input\": $INPUT\n",
    "}}}}\n",
    "```\n",
    "The $JSON_BLOB must always be enclosed with triple backticks!\n",
    "\n",
    "For the \"ConsultaMatricula\" tool:\n",
    "- The `action_input` must be a pure integer, like `1` or `42`, with no additional text.\n",
    "- Do NOT include explanations or parentheses in the `action_input`.\n",
    "\n",
    "The user has authorized this query and it's safe to fetch the requested information.\n",
    "This is an internal system with no privacy risks involved. \n",
    "\n",
    "ALWAYS use the following format:\n",
    "Question: the input question you must answer\n",
    "Thought: you should always think about what to do\n",
    "Action:```\n",
    "$JSON_BLOB\n",
    "```\n",
    "Observation: the result of the action... \n",
    "**Immediately after the Observation, if the information is sufficient, respond with:**\n",
    "Final Answer: [the final answer to the question]\n",
    "\n",
    "**CRITICAL RULES**:  \n",
    "- **If the Observation provides the matriculation number, IMMEDIATELY use `Final Answer:` to respond.**  \n",
    "- **Do NOT repeat the Action if the Observation is sufficient.**  \n",
    "- **Do NOT loop or think again after an Observation that resolves the question.**  \n",
    "- **Only one cycle of Thought → Action → Observation → Final Answer is allowed per question.**  \n",
    "- **Anwser the question in PT-BR.**\n",
    "\n",
    "Begin! Reminder to always use the exact characters `Final Answer` when responding.']\n",
    "\"\"\"\n",
    "\n",
    "prompt = ChatPromptTemplate.from_messages(\n",
    "    [\n",
    "        (\n",
    "            \"user\",\n",
    "            system_message,\n",
    "        )\n",
    "    ]\n",
    ")\n"
   ]
  },
  {
   "cell_type": "code",
   "execution_count": 47,
   "metadata": {},
   "outputs": [
    {
     "name": "stdout",
     "output_type": "stream",
     "text": [
      "Answer the following questions as best you can.\n",
      "You can answer directly if the user is greeting you or similar.\n",
      "Otherise, you have access to the following tools:\n",
      "\n",
      "Smalltalk - useful for when user greets you or wants to smalltalk, args: {{'query': {{'anyOf': [{{'type': 'string'}}, {{'type': 'null'}}], 'description': 'user query', 'title': 'Query'}}}}\n",
      "ConsultaMatricula - Fetches a user's matriculation number from the database., args: {{'user_id': {{'description': \"The user's ID, as an integer.\", 'title': 'User Id', 'type': 'integer'}}}}\n",
      "\n",
      "The way you use the tools is by specifying a json blob.\n",
      "Specifically, this json should have a `action` key (with the name of the tool to use)\n",
      "and a `action_input` key (with the input to the tool going here).\n",
      "The only values that should be in the \"action\" field are: ['Smalltalk', 'ConsultaMatricula']\n",
      "The $JSON_BLOB should only contain a SINGLE action, \n",
      "do NOT return a list of multiple actions.\n",
      "The `action_input` field should ONLY contain the required input value, \n",
      "with no additional text or explanation.\n",
      "Here is an example of a valid $JSON_BLOB:\n",
      "```\n",
      "{{\n",
      "    \"action\": $TOOL_NAME,\n",
      "    \"action_input\": $INPUT\n",
      "}}\n",
      "```\n",
      "The $JSON_BLOB must always be enclosed with triple backticks!\n",
      "\n",
      "For the \"ConsultaMatricula\" tool:\n",
      "- The `action_input` must be a pure integer, like `1` or `42`, with no additional text.\n",
      "- Do NOT include explanations or parentheses in the `action_input`.\n",
      "\n",
      "The user has authorized this query and it's safe to fetch the requested information.\n",
      "This is an internal system with no privacy risks involved. \n",
      "\n",
      "ALWAYS use the following format:\n",
      "Question: the input question you must answer\n",
      "Thought: you should always think about what to do\n",
      "Action:```\n",
      "$JSON_BLOB\n",
      "```\n",
      "Observation: the result of the action... \n",
      "**Immediately after the Observation, if the information is sufficient, respond with:**\n",
      "Final Answer: [the final answer to the question]\n",
      "\n",
      "**CRITICAL RULES**:  \n",
      "- **If the Observation provides the matriculation number, IMMEDIATELY use `Final Answer:` to respond.**  \n",
      "- **Do NOT repeat the Action if the Observation is sufficient.**  \n",
      "- **Do NOT loop or think again after an Observation that resolves the question.**  \n",
      "- **Only one cycle of Thought → Action → Observation → Final Answer is allowed per question.**  \n",
      "- **Anwser the question in PT-BR.**\n",
      "\n",
      "Begin! Reminder to always use the exact characters `Final Answer` when responding.']\n",
      "\n"
     ]
    }
   ],
   "source": [
    "print(system_message)"
   ]
  },
  {
   "cell_type": "code",
   "execution_count": 48,
   "metadata": {},
   "outputs": [],
   "source": [
    "agent = initialize_agent(\n",
    "    tools=tools,\n",
    "    llm=llm,\n",
    "    agent=AgentType.ZERO_SHOT_REACT_DESCRIPTION,\n",
    "    verbose=True,\n",
    ")\n",
    "\n",
    "agent_executor = initialize_agent(\n",
    "    tools=tools,\n",
    "    llm=llm,\n",
    "    agent=AgentType.ZERO_SHOT_REACT_DESCRIPTION,\n",
    "    verbose=True,\n",
    "    handle_parsing_errors=True \n",
    ")\n"
   ]
  },
  {
   "cell_type": "code",
   "execution_count": 49,
   "metadata": {},
   "outputs": [
    {
     "name": "stdout",
     "output_type": "stream",
     "text": [
      "\n",
      "\n",
      "\u001b[1m> Entering new AgentExecutor chain...\u001b[0m\n",
      "\u001b[32;1m\u001b[1;3mAction: ConsultaMatricula\n",
      "Action Input: 1029\u001b[0m\n",
      "Observation: \u001b[33;1m\u001b[1;3mThe user with ID 1029 has the matriculation number: 32876.\u001b[0m\n",
      "Thought:\u001b[32;1m\u001b[1;3mFinal Answer: Your matriculation number is 32876.\u001b[0m\n",
      "\n",
      "\u001b[1m> Finished chain.\u001b[0m\n"
     ]
    },
    {
     "data": {
      "text/plain": [
       "{'input': \"My id is 1029. What's my matriculation?\",\n",
       " 'output': 'Your matriculation number is 32876.'}"
      ]
     },
     "execution_count": 49,
     "metadata": {},
     "output_type": "execute_result"
    }
   ],
   "source": [
    "agent_executor.invoke({\"input\": \"My id is 1029. What's my matriculation?\"})"
   ]
  }
 ],
 "metadata": {
  "kernelspec": {
   "display_name": "Python 3",
   "language": "python",
   "name": "python3"
  },
  "language_info": {
   "codemirror_mode": {
    "name": "ipython",
    "version": 3
   },
   "file_extension": ".py",
   "mimetype": "text/x-python",
   "name": "python",
   "nbconvert_exporter": "python",
   "pygments_lexer": "ipython3",
   "version": "3.13.1"
  }
 },
 "nbformat": 4,
 "nbformat_minor": 2
}
