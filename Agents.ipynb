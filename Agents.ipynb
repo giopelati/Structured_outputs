{
 "cells": [
  {
   "cell_type": "markdown",
   "metadata": {},
   "source": [
    "### <center> Testes de Implementação: **Ollama e Langchain** em Agentes Inteligentes <center>\n"
   ]
  },
  {
   "cell_type": "markdown",
   "metadata": {},
   "source": [
    "Importações"
   ]
  },
  {
   "cell_type": "code",
   "execution_count": null,
   "metadata": {},
   "outputs": [
    {
     "data": {
      "text/plain": [
       "True"
      ]
     },
     "execution_count": 1,
     "metadata": {},
     "output_type": "execute_result"
    }
   ],
   "source": [
    "from pydantic import BaseModel, Field\n",
    "from langchain.tools import BaseTool\n",
    "from typing import Optional, Type\n",
    "from langchain.callbacks.manager import (\n",
    "    AsyncCallbackManagerForToolRun,\n",
    "    CallbackManagerForToolRun,\n",
    ")\n",
    "from langchain.tools.render import render_text_description_and_args\n",
    "import re\n",
    "import ollama\n",
    "import chromadb\n",
    "from langchain.prompts import PromptTemplate"
   ]
  },
  {
   "cell_type": "markdown",
   "metadata": {},
   "source": [
    "Extratação do Documento"
   ]
  },
  {
   "cell_type": "code",
   "execution_count": 2,
   "metadata": {},
   "outputs": [
    {
     "name": "stdout",
     "output_type": "stream",
     "text": [
      "['**', 'Q: \"How do I enable automatic updates?\"**  \\nA: \"*Android*  \\nSEMPRE JBS was developed to provide faster information and convenience in your daily life. Therefore, when updates are available, you don’t need to worry about checking for the new version. The app will notify you about the new version and direct you to the Google Play Store. It’s easy and quick. Don’t worry 😊  \\n\\n*iOS*  \\nIf you want your phone to automatically update to the latest versions, simply:  \\n1. Go to “Settings”;  \\n2. Click on “Apple Store”;  \\n3. Select the “Automatic Updates” option.\"  \\n\\n---\\n\\n**', 'Q: \"How do I install Sempre JBS?\"**  \\nA: \"*Android*  \\nHere is the link to install on Android: [https://play.google.com/store/apps/details?id=br.com.jbs.rh.comvoce&hl=pt_BR&gl=US](https://play.google.com/store/apps/details?id=br.com.jbs.rh.comvoce&hl=pt_BR&gl=US)  \\n\\n*iOS*  \\nHere is the link to install on iOS: [botm.cc/l/8eQNDoj](botm.cc/l/8eQNDoj)\"  \\n\\n---\\n\\n**', 'Q: \"I want to update my app. How do I do that?\"**  \\nA: \"*Android*  \\nTo check if there are any pending updates for your app on an Android device, visit the link:  \\n\\n[https://play.google.com/store/apps/details?id=br.com.jbs.rh.comvoce&hl=pt_BR](https://play.google.com/store/apps/details?id=br.com.jbs.rh.comvoce&hl=pt_BR)  \\n\\nIf you see the \"Update\" button, click on it.  \\n\\nIf it says \"Open\", your app is already up-to-date and ready to use! 😀  \\n\\n*iOS*  \\nTo update your app on an iOS device, follow these steps:  \\n1. Go to the Apple Store;  \\n2. Click on your profile picture in the top right corner;  \\n3. Find the SEMPRE JBS app available for update.  \\n\\nDone! Now just click on “Update” to stay connected and follow all the news.\"  \\n\\n---\\n\\n**', 'Q: \"I forgot my login and password. What should I do?\"**  \\nA: \"There are two ways to log in:  \\n\\n*CPF (Tax ID)*  \\nIf you want to log in using your CPF, remember that on your first access, you need to set a personal password by clicking on “First Access.” You will be asked security questions before setting a password. If you forget your password later, you will need to answer the same security questions to reset it.  \\n\\n*Network User*  \\nIf you wish to log in using your network user, remember that you must enter your network login and password (the same one you use to access JBS computers).  \\n\\nPlease make sure you are entering the correct login and password. If you don’t remember your network password, don’t worry! You can reset it through the GCA, available on the intranet.\"  \\n\\n---\\n\\n**', 'Q: \"I forgot my login and password when using CPF. What should I do?\"**  \\nA: \"If you want to log in using CPF, remember that on your first access, you need to set a personal password by clicking on “First Access.” You will be asked security questions before setting a password. If you forget it later, you will need to answer the same security questions to reset it.\"  \\n\\n---\\n\\n**', 'Q: \"I forgot my login and password when using the network user. What should I do?\"**  \\nA: \"If you wish to log in using your network user, remember that you must enter your network login and password (the same one you use to access JBS computers).\"  \\n\\n---\\n\\n**', 'Q: \"I forgot my security questions. What should I do?\"**  \\nA: \"Don’t worry! You need to contact your unit\\'s HR to clear your access data. After that, you can perform the first access again, setting a new password and new security questions.\"  \\n\\n---\\n\\n**', 'Q: \"How do I recover my password?\"**  \\nA: \"Don’t worry, it’s super easy!  \\n\\nWhen you first accessed the app, you registered a password and some security questions. To recover your password, simply click on “Forgot my password” on the main page and answer the security questions you set during your first access. Done! Now just set a new password.  \\n\\nBut if you forgot your security questions, just ask your HR unit to clear your data so you can perform the first access again and set a new password.\"  \\n\\n---\\n\\n**', 'Q: \"My token isn’t working. What should I do?\"**  \\nA: \"This issue can occur due to a few reasons:  \\n- The collaborator\\'s phone time is set manually, affecting the token in the app. To check, open settings and look for Date and Time, ensure it’s set to automatic (must be synchronized with Brasília time);  \\n- The collaborator\\'s internet connection is weak. Check or try connecting to another network;  \\n- The collaborator is on or recently returned from vacation (employees on vacation cannot access SEMPRE EDUCA).\"  \\n\\n---\\n\\n**', 'Q: \"How do I perform the first access on the app?\"**  \\nA: \"If it’s your first access and you don’t have a network login, don’t worry! You can easily set a password by clicking on “First Access.” After that, every time you log in, just enter your CPF and the password you created.  \\n\\nAttention! If you forget your access password in the future, you can recover it with the security questions, so answer truthfully or in a way that you can easily remember.\"  \\n\\n---\\n\\n**', 'Q: \"I was locked out while trying to log in to the Sempre JBS app. What should I do?\"**  \\nA: \"If you are using a network login, wait 30 minutes and try logging in again. If you don’t remember your password, contact your local IT for guidance.  \\n\\nIf you are logging in with CPF, wait 30 minutes, uninstall the app, and reinstall it from the Play Store or using the QR codes attached. After installation, contact your unit\\'s HR to request the clearing of your metadata, allowing you to perform the first access again. Successfully accessing will either confirm a network login or present 5 questions to create your app access password.\"  \\n\\n---\\n\\n**', 'Q: \"I\\'m getting error 203. How do I solve it?\"**  \\nA: \"When error 203 appears, follow these steps:  \\n- Uninstall and reinstall the app;  \\n- Upon opening, click on “First Access” and enter your CPF and registration number.  \\n\\nIf the error persists, contact your unit\\'s HR.\"  \\n\\n---\\n\\n**', 'Q: \"How do I resolve error 202?\"**  \\nA: \"Error 202 is related to authentication in JBS\\'s data system, meaning there was a failure during the process. Please try again after 24 hours.\"  \\n\\n---\\n\\n**', 'Q: \"What is network login?\"**  \\nA: \"Network login is used to access company systems, such as Citrix and computer access, usually used by corporate employees.\"  \\n\\n---\\n\\n**', 'Q: \"How do I find out my login?\"**  \\nA: \"If you don’t remember your network login, contact your unit\\'s HR to retrieve it.\"  \\n\\n---\\n\\n**', 'Q: \"Who is responsible for scheduling my vacation?\"**  \\nA: \"Only employees using network login can schedule their own vacation. Otherwise, HR and the immediate manager can schedule vacation for another employee.\"  ']\n"
     ]
    }
   ],
   "source": [
    "faq = \"\"\n",
    "\n",
    "with open('faq.txt', 'r', encoding='utf-8') as file:\n",
    "        faq = file.read()\n",
    "\n",
    "documents = re.split(r'(?=Q: )', faq)\n",
    "\n",
    "for i in reversed(documents):\n",
    "    if i == \"\":\n",
    "        documents.remove(i)\n",
    "\n",
    "print(documents)"
   ]
  },
  {
   "cell_type": "markdown",
   "metadata": {},
   "source": [
    "Conexão com o ChromaDB"
   ]
  },
  {
   "cell_type": "code",
   "execution_count": 3,
   "metadata": {},
   "outputs": [],
   "source": [
    "client = chromadb.Client()\n",
    "collection = client.create_collection(name=\"docs\")\n",
    "\n",
    "# Guardar os documentos em um vetor para embedding \n",
    "for i, d in enumerate(documents):\n",
    "    response = ollama.embed(model=\"mxbai-embed-large\", input=d)\n",
    "    embeddings = response[\"embeddings\"]\n",
    "    collection.add(\n",
    "        ids=[str(i)],\n",
    "        embeddings=embeddings,\n",
    "        documents=[d]\n",
    "    )"
   ]
  },
  {
   "cell_type": "markdown",
   "metadata": {},
   "source": [
    "Configuração de Tools"
   ]
  },
  {
   "cell_type": "code",
   "execution_count": 4,
   "metadata": {},
   "outputs": [],
   "source": [
    "class EmbeddingInput(BaseModel):\n",
    "    question: str = Field(..., description=\"The user's question requiring technical information or data.\")\n",
    "\n",
    "class EmbeddingTool(BaseTool):\n",
    "    name: str = \"Embedding\"\n",
    "    description: str = (\n",
    "        \"Useful when the user needs technical information or any question requiring data to provide an answer.\"\n",
    "    )\n",
    "    args_schema: Type[BaseModel] = EmbeddingInput\n",
    "\n",
    "    def _get_embedding(self, text: str):\n",
    "        \"\"\"Generates embedding for the given text.\"\"\"\n",
    "        try:\n",
    "            response = ollama.embed(model=\"mxbai-embed-large\", input=text)\n",
    "            return response[\"embeddings\"][0]\n",
    "        except Exception as e:\n",
    "            raise ValueError(f\"Error generating embedding: {str(e)}\")\n",
    "\n",
    "    def _query_collection(self, embedding, num_results=1):\n",
    "        \"\"\"Queries ChromaDB using the given embedding.\"\"\"\n",
    "        try:\n",
    "            results = collection.query(\n",
    "                query_embeddings=[embedding],\n",
    "                n_results=num_results\n",
    "            )\n",
    "            return results\n",
    "        except Exception as e:\n",
    "            raise ValueError(f\"Error querying ChromaDB: {str(e)}\")\n",
    "\n",
    "    def _run(\n",
    "        self,\n",
    "        question: Optional[str] = None,\n",
    "        run_manager: Optional[CallbackManagerForToolRun] = None,\n",
    "    ) -> str:\n",
    "        \"\"\"Gets relevant information for the question.\"\"\"\n",
    "        if not question:\n",
    "            return \"No question was provided.\"\n",
    "\n",
    "        try:\n",
    "            embedding = self._get_embedding(question)\n",
    "\n",
    "            results = self._query_collection(embedding, num_results=1)\n",
    "\n",
    "            if results and results[\"documents\"]:\n",
    "                return (\n",
    "                    f\"Use this information to answer the question. \"\n",
    "                    f\"If no relevant information is found, inform the user that it wasn't possible to answer. \"\n",
    "                    f\"Information: {results['documents'][0][0]}\"\n",
    "                )\n",
    "            else:\n",
    "                return \"No relevant information was found to answer the question.\"\n",
    "        \n",
    "        except ValueError as e:\n",
    "            return str(e)\n",
    "        except Exception as e:\n",
    "            return f\"Error processing the question: {str(e)}\"\n"
   ]
  },
  {
   "cell_type": "code",
   "execution_count": 5,
   "metadata": {},
   "outputs": [],
   "source": [
    "response = (\n",
    "    \"Create a final answer that says if they \"\n",
    "    \"have any questions about movies or actors\"\n",
    ")\n",
    "\n",
    "\n",
    "class SmalltalkInput(BaseModel):\n",
    "    query: Optional[str] = Field(description=\"user query\")\n",
    "\n",
    "\n",
    "class SmalltalkTool(BaseTool):\n",
    "    name: str = \"Smalltalk\"\n",
    "    description: str = \"useful for when user greets you or wants to smalltalk\" \n",
    "    args_schema: Type[BaseModel] = SmalltalkInput\n",
    "\n",
    "    def _run(\n",
    "        self,\n",
    "        query: Optional[str] = None,\n",
    "        run_manager: Optional[CallbackManagerForToolRun] = None,\n",
    "    ) -> str:\n",
    "        \"\"\"Use the tool.\"\"\"\n",
    "        return response\n",
    "\n",
    "    async def _arun(\n",
    "        self,\n",
    "        query: Optional[str] = None,\n",
    "        run_manager: Optional[AsyncCallbackManagerForToolRun] = None,\n",
    "    ) -> str:\n",
    "        \"\"\"Use the tool asynchronously.\"\"\"\n",
    "        return response"
   ]
  },
  {
   "cell_type": "code",
   "execution_count": 6,
   "metadata": {},
   "outputs": [],
   "source": [
    "tools = [EmbeddingTool(), SmalltalkTool()]"
   ]
  },
  {
   "cell_type": "markdown",
   "metadata": {},
   "source": [
    "System Prompts e Question"
   ]
  },
  {
   "cell_type": "code",
   "execution_count": 7,
   "metadata": {},
   "outputs": [],
   "source": [
    "system_prompt_tool_call = f\"\"\"\n",
    "You are a tool calling agent, your is choose a tool tho solve the user's doubt.\n",
    "\n",
    "You have access to the following tools: \n",
    "{render_text_description_and_args(tools).replace('{', '{{').replace('}', '}}')}\n",
    "\n",
    "You should choose a tool that most covens to the situation.\n",
    "Do not worry, you can have access to all the information you are asked about.\n",
    "\"\"\"\n",
    "\n",
    "system_prompt_model = PromptTemplate.from_template(\n",
    "\"\"\"\n",
    "Contexto: Você é um assistente virtual treinado para ajudar os colaboradores da empresa JBS a esclarecer dúvidas ou resolver problemas sobre os valores da empresa ou o aplicativo de RH chamado Sempre JBS.\n",
    "Restrito aos dados fornecidos: Responda exclusivamente com base nas informações apresentadas nos exemplos. Não inclua suposições, interpretações ou dados adicionais que não estejam explicitamente descritos nos exemplos fornecidos.\n",
    "Conciso e direto: Responda de forma objetiva e clara.\n",
    "Idioma: Sempre em PT-BR.\n",
    "Tratamento de casos específicos:\n",
    "- Informações não encontradas ou perguntas fora do contexto: \"Não localizei essa informação no documento disponível. Por favor, entre em contato com o RH para mais detalhes.\"\n",
    "- Perguntas irrelevantes: \"Esta pergunta não se refere aos valores da JBS ou ao aplicativo Sempre JBS. Portanto, não posso respondê-la.\"\n",
    "- Perguntas ambíguas: \"Por favor, forneça mais detalhes para que eu possa responder com precisão.\"\n",
    "Tom da resposta: Formal e educado.\n",
    "\n",
    "Encontre as informações necessárias para a formulação da resposta nesses exemplos disponíveis: {tool_response}\n",
    "\n",
    "Responda à pergunta em PT-BR:\n",
    "\"\"\"\n",
    ")\n",
    "\n",
    "question = \"how to download the app?\""
   ]
  },
  {
   "cell_type": "markdown",
   "metadata": {},
   "source": [
    "JSON Tools"
   ]
  },
  {
   "cell_type": "code",
   "execution_count": 8,
   "metadata": {},
   "outputs": [],
   "source": [
    "json_tools = [\n",
    "        {\n",
    "            'type': 'function',\n",
    "            'function': {\n",
    "                'name': 'Embedding',\n",
    "                'description': 'Useful when the user needs technical information or any question requiring data to provide an answer.',\n",
    "                'parameters': {\n",
    "                    'type': 'object',\n",
    "                    'properties': {\n",
    "                        'question': {\n",
    "                            'type': 'string',\n",
    "                            'description': 'The user\\'s question requiring technical information or data.'\n",
    "                        }\n",
    "                    },\n",
    "                    'required': ['question']\n",
    "                },\n",
    "            },\n",
    "        },\n",
    "        {\n",
    "            'type': 'function',\n",
    "            'function': {\n",
    "                'name': 'Smalltalk',\n",
    "                'description': 'Useful for when the user greets you or wants to engage in small talk about HR-related topics.',\n",
    "                'parameters': {\n",
    "                    'type': 'object',\n",
    "                    'properties': {\n",
    "                        'query': {\n",
    "                            'type': 'string',\n",
    "                            'description': 'The user query, greeting, or small talk input.'\n",
    "                        }\n",
    "                    },\n",
    "                    'required': ['query']\n",
    "                },\n",
    "            },\n",
    "        }\n",
    "    ]"
   ]
  },
  {
   "cell_type": "markdown",
   "metadata": {},
   "source": [
    "Funções de Execução"
   ]
  },
  {
   "cell_type": "code",
   "execution_count": 9,
   "metadata": {},
   "outputs": [],
   "source": [
    "def get_tool_call(system_prompt, question, json_tools):\n",
    "    tool_call = ollama.chat(\n",
    "        model = \"llama3.1\",\n",
    "        messages = [{\"role\": \"system\", \"content\": system_prompt}, {\"role\": \"user\", \"content\": question}],\n",
    "        tools = json_tools\n",
    "    )\n",
    "    \n",
    "    return tool_call\n",
    "\n",
    "def get_tool_response(function_name, function_arguments):    \n",
    "    if function_name == \"Embedding\":\n",
    "        tool_response = EmbeddingTool()._run(question=function_arguments['question'])\n",
    "    elif function_name == \"SmallTalk\":\n",
    "        tool_response = SmalltalkTool()._run(query=function_arguments['question'])\n",
    "    else:\n",
    "        tool_response = None\n",
    "\n",
    "    return tool_response\n",
    "\n",
    "def get_model_response(tool_response, system_prompt_model, question):\n",
    "    system_prompt_model_formatted = system_prompt_model.format(tool_response=tool_response)\n",
    "    model_response = ollama.chat(\n",
    "        model = \"llama3.1\",\n",
    "        messages = [{\"role\": \"system\", \"content\": system_prompt_model_formatted}, {\"role\": \"user\", \"content\": question}]\n",
    "    )\n",
    "\n",
    "    return model_response"
   ]
  },
  {
   "cell_type": "code",
   "execution_count": 10,
   "metadata": {},
   "outputs": [],
   "source": [
    "tool_call = get_tool_call(system_prompt_tool_call, question, json_tools)\n",
    "\n",
    "tool_calls = tool_call.message.tool_calls\n",
    "for tool_call in tool_calls:\n",
    "    function_name = tool_call.function.name\n",
    "    arguments = tool_call.function.arguments"
   ]
  },
  {
   "cell_type": "code",
   "execution_count": 11,
   "metadata": {},
   "outputs": [],
   "source": [
    "tool_response = get_tool_response(function_name, arguments)"
   ]
  },
  {
   "cell_type": "code",
   "execution_count": 12,
   "metadata": {},
   "outputs": [
    {
     "data": {
      "text/plain": [
       "'Não localizei essa informação no documento disponível. Por favor, entre em contato com o RH para mais detalhes.'"
      ]
     },
     "execution_count": 12,
     "metadata": {},
     "output_type": "execute_result"
    }
   ],
   "source": [
    "model_response = get_model_response(tool_response, system_prompt_model, question)\n",
    "model_response.message.content"
   ]
  }
 ],
 "metadata": {
  "kernelspec": {
   "display_name": "Python 3",
   "language": "python",
   "name": "python3"
  },
  "language_info": {
   "codemirror_mode": {
    "name": "ipython",
    "version": 3
   },
   "file_extension": ".py",
   "mimetype": "text/x-python",
   "name": "python",
   "nbconvert_exporter": "python",
   "pygments_lexer": "ipython3",
   "version": "3.13.1"
  }
 },
 "nbformat": 4,
 "nbformat_minor": 2
}
