{
 "cells": [
  {
   "cell_type": "markdown",
   "metadata": {},
   "source": [
    "### <center> Testes de Implementação: **Ollama e Langchain** em Agentes Inteligentes <center>\n"
   ]
  },
  {
   "cell_type": "markdown",
   "metadata": {},
   "source": [
    "Importações"
   ]
  },
  {
   "cell_type": "code",
   "execution_count": 1,
   "metadata": {},
   "outputs": [],
   "source": [
    "from pydantic import BaseModel, Field\n",
    "from langchain.tools import BaseTool\n",
    "from typing import Optional, Type\n",
    "from langchain.callbacks.manager import (\n",
    "    AsyncCallbackManagerForToolRun,\n",
    "    CallbackManagerForToolRun,\n",
    ")\n",
    "from langchain.tools.render import render_text_description_and_args\n",
    "import re\n",
    "import ollama\n",
    "import chromadb\n",
    "from langchain.prompts import PromptTemplate\n",
    "from langchain_ollama import ChatOllama"
   ]
  },
  {
   "cell_type": "markdown",
   "metadata": {},
   "source": [
    "Extratação do Documento"
   ]
  },
  {
   "cell_type": "code",
   "execution_count": 2,
   "metadata": {},
   "outputs": [
    {
     "name": "stdout",
     "output_type": "stream",
     "text": [
      "['[Aplicativo]\\n', 'Q: \"Como faço para deixar as atualizações de forma automática?\"\\nA: \"*Anroid*\\nO SEMPRE JBS foi desenvolvido para trazer maior agilidade nas informações e praticidade no seu dia a dia. Por isso, quando houver atualizações, você não precisa se preocupar em entrar no sistema e buscar essa nova versão. O aplicativo já vai te avisar que tem uma nova versão e te levar para a google store. É fácil e rápido. Não se preocupe 😊\\n\\n*IOS*\\nCaso você queira que seu celular atualize sozinho para as próximas versões, basta:\\n    1.      Clicar em “Ajustes”;\\n    2.      Clicar em “Apple store”;\\n    3.      Selecionar a opção de “Atualização automática”.\"\\n\\n', 'Q: \"Como faço para deixar de forma automática a atualização do Sempre JBS em meu aparelho Android?\"\\nA: \"O SEMPRE JBS foi desenvolvido para trazer maior agilidade nas informações e praticidade no seu dia a dia. Por isso, quando houver atualizações, você não precisa se preocupar em entrar no sistema e buscar essa nova versão. O aplicativo já vai te avisar que tem uma nova versão e te levar para a google store. É fácil e rápido. Não se preocupe 😊\"\\n\\n', 'Q: \"Como faço para deixar de forma automática a atualização do Sempre JBS em meu aparelho IOS?\"\\nA: \"Caso você queira que seu celular atualize sozinho para as próximas versões, basta:\\n    1.      Clicar em “Ajustes”;\\n    2.      Clicar em “Apple store”;\\n    3.      Selecionar a opção de “Atualização automática”.\"\\n\\n', 'Q: \"Como instalar o Sempre JBS?\"\\nA: \"*Android*\\nSegue o link para a instalação em android: https://play.google.com/store/apps/details?id=br.com.jbs.rh.comvoce&hl=pt_BR&gl=US\\n\\n*IOS*\\nSegue o link para a instalação em ios: botm.cc/l/8eQNDoj\"\\n\\n', 'Q: \"Como instalar o Sempre JBS em meu dispositivo Android?\"\\nA: \"Fico muito feliz que você está interessado em baixar o aplicativo! Segue o link para a instalação em android: https://play.google.com/store/apps/details?id=br.com.jbs.rh.comvoce&hl=pt_BR&gl=US\"\\n\\n', 'Q: \"Como instalar o Sempre JBS em meu dispositivo IOS?\"\\nA: \"Fico muito feliz que você está interessado em baixar o aplicativo! Segue o link para a instalação em ios: botm.cc/l/8eQNDoj\"\\n\\n', 'Q: \"Quero atualizar meu aplicativo. Como faço?\"\\nA: \"*Android*\\nPara verificar se há atualizações pendentes do seu aplicativo em um dispositivo Android, entre no link:\\n\\nhttps://play.google.com/store/apps/details?id=br.com.jbs.rh.comvoce&hl=pt_BR\\n\\nCaso apareça o botão \"Atualizar\", clique nele.\\n\\nCaso esteja escrito \"Abrir\", seu aplicativo já está na última versão e pronto para\\xa0ser\\xa0usado!\\xa0😀\\n\\n*IOS* \\nPara atualizar seu aplicativo em um dispositivo IOS basta seguir este passo a passo:\\n    1.      Vá na Apple Store;\\n    2.      Clique no ícone da sua foto, no canto direito superior;\\n    3.      Encontre o aplicativo do SEMPRE JBS que está disponível para atualização.\\nPronto! Agora basta clicar em “Atualizar” para você estar sempre ligado conosco e acompanhar todas as novidades.\"\\n\\n', 'Q: \"Quero atualizar meu aplicativo em meu dispositivo Android.\"\\nA: \"Para verificar se há atualizações para o seu aplicativo, entre no link:\\n\\nhttps://play.google.com/store/apps/details?id=br.com.jbs.rh.comvoce&hl=pt_BR\\n\\nCaso apareça o botão \"Atualizar\", clique nele.\\n\\nCaso esteja escrito \"Abrir\", seu aplicativo já está na última versão e pronto para\\xa0ser\\xa0usado!\\xa0😀\"\\n\\n', 'Q: \"Quero atualizar meu aplicativo em meu dispositivo IOS.\"\\nA: \"É super simples! Para atualizar seu aplicativo basta seguir este passo a passo:\\n    1.      Vá na Apple Store;\\n    2.      Clique no ícone da sua foto, no canto direito superior;\\n    3.      Encontre o aplicativo do SEMPRE JBS que está disponível para atualização.\\nPronto! Agora basta clicar em “Atualizar” para você estar sempre ligado conosco e acompanhar todas as novidades.\"\\n\\n\\n[Login no aplicativo]\\n', 'Q: \"Eu esqueci o login e a senha. O que devo fazer?\"\\nA: \"Há duas maneiras de fazer login:\\n\\n    *CPF*\\n    Se deseja fazer login com o CPF, lembre-se que no seu primeiro acesso, você deve definir uma senha de uso pessoal, clicando em “Primeiro acesso”. Você deverá responder perguntas de segurança antes de definir uma senha. Se em algum momento você esquecer e precisar redefini-la, você deverá responder essas mesmas perguntas.\\n\\n    *Usuário de rede*\\n    Se você deseja entrar com usuário de rede, lembre-se que na tela você deve informar seu login e senha de rede (a mesma que você utiliza para logar no computador JBS). \\n\\n    Por favor, verifique se está digitando corretamente o login e a senha. Caso não lembre da sua senha de rede, não se preocupe! Você pode redefini-la através do GCA, disponível na intranet.\"\\n\\n', 'Q: \"Eu esqueci o login e a senha, entrando por CPF. O que devo fazer?\"\\nA: \"Se deseja fazer login com o CPF, lembre-se que no seu primeiro acesso, você deve definir uma senha de uso pessoal, clicando em “Primeiro acesso”. Você deverá responder perguntas de segurança antes de definir uma senha. Se em algum momento você esquecer e precisar redefini-la, você deverá responder essas mesmas perguntas.\"\\n\\n', 'Q: \"Eu esqueci o login e a senha, entrando por usuário de rede. O que devo fazer?\"\\nA: \"Se você deseja entrar com usuário de rede, lembre-se que na tela você deve informar seu login e senha de rede (a mesma que você utiliza para logar no computador JBS).\"\\n\\n', 'Q: \"Esqueci minhas perguntas de segurança. O que devo fazer?\"\\nA: \"Não se preocupe! Você precisa procurar o RH da sua unidade para realizar uma limpeza de acesso. Então, você poderá fazer o seu primeiro acesso novamente, definindo nova senha e perguntas de segurança.\"\\n\\n', 'Q: \"Como faço para recuperar minha senha?\"\\nA: \"Não se preocupe, é facinho de recuperar!\\n\\n    Lembra de que quando você fez o seu primeiro acesso, foi cadastrado uma senha e algumas perguntas de segurança. Para recuperar sua senha, basta clicar em “Esqueci minha senha” na página inicial e você deverá responder as perguntas de segurança que você definiu lá no seu primeiro acesso. Pronto! Agora é só definir uma nova senha.\\n\\n    Mas caso tenha esquecido suas perguntas de segurança, basta pedir para sua unidade de RH limpar seus dados para que você possar realizar o primeiro acesso novamente e definir uma nova senha.\"\\n\\n', 'Q: \"Meu token não está funcionando. O que devo fazer?\"\\nA: \"Esse problema pode acontecer por alguns motivos:\\n    ·              O horário do celular do(a) colaborador(a) está definido manualmente, afetando o token dentro do aplicativo. Para verificar, abra as configurações e procure pela opção de Data e Hora, veja se está definido manual ou automaticamente (precisa estar sincronizado com o horário de Brasília);\\n    ·              A conexão de internet do(a) colaborador(a) está fraca, verifique ou tente conectar em outra rede\\n    ·               O colaborador está ou voltou de férias recentemente (os colaboradores que estão em período de férias não podem acessar o Sempre Educa).\"\\n\\n', 'Q: \"Como fazer o meu primeiro acesso no app?\"\\nA: \"Se é o seu primeiro acesso e você não tem login de rede, não se preocupe! Você pode definir facilmente uma senha clicando em “Primeiro acesso”. Depois disso, toda  vez que você fizer login no aplicativo, basta você informar seu CPF e a sua senha cadastrada. \\n\\nAtenção! Caso você esqueça sua senha de acesso no futuro, você poderá recuperá-la com as perguntas de segurança, então responda verdadeiramente ou de forma que você lembre facilmente de sua resposta.\"\\n\\n', 'Q: \"Fui bloqueada ao fazer o login no aplicativo do Sempre JBS, o que devo fazer?\"\\nA: \"Caso utilize login de rede, aguarde 30 minutos e tente efetuar novamente o login de rede e senha. Caso não lembre sua senha, procure seu TI local para orientação\\n\\nCaso utilize login por CPF, aguarde por 30 minutos, desinstale o app e instale novamente pela Playstore ou pelos QRCodes em anexo. Após a instalação, procure o RH de sua unidade para solicitar a limpeza de seu metadados, isso irá permitir que realize seu primeiro acesso novamente. O sucesso do primeiro acesso ou irá indicar que o colaborador possui login de rede \"ver cenário 1\" ou irá apresentar 5 perguntas para que possa criar sua senha de acesso do app.\"\\n\\n', 'Q: \"Está dando erro 203, como solucionar?\"\\nA: \"Quando o erro 203 aparecer, siga as instruções a seguir:\\n\\n- Desinstale e instale o aplicativo\\n- Ao abrir, clique em primeiro acesso e preencha com seu CPF e matrícula\\n\\nCaso o erro persista, contate sua unidade de RH.\"\\n\\n', 'Q: \"Como resolver o erro 202?\"\\nA: \"O erro 202 é referente a sua autenticação no sistema de dados da JBS, ou seja, houve uma falha ao realizá-la. Por favor, tente novamente após 24 horas.\"\\n\\n', 'Q: \"O que é login de rede?\"\\nA: \"Login de rede é um login utilizado para entrar nos sistemas da empresa, por exemplo o Citrix e acesso dos computadores, normalmente utilizado por colaboradores do corporativo.\"\\n\\n', 'Q: \"Como faço para saber meu login?\"\\nA: \"Caso não lembre de seu login de rede, consulte o RH da sua unidade para recuperá-lo.\"\\n\\n[Sempre Educa]\\n', 'Q: \"Meu curso não aparece. Como faz para encontrá-lo?\"\\nA: \"Entendemos que você esteja preocupado(a) de não conseguir visualizar seus cursos no SEMPRE EDUCA, vou esclarecer por que isso pode acontecer: \\n\\nO SEMPRE EDUCA disponibiliza cursos de acordo com o perfil definido pelos administradores da plataforma. Podem existir algumas razões pelas quais você não visualiza um curso.  \\n\\nSe você é um colaborador da JBS e deveria estar visualizando um curso já comunicado pelo seu RH, não se preocupe, estou aqui para ajudar! Por favor continue o atendimento neste canal para abrir um chamado com a nossa equipe de suporte.\"\\n\\n', 'Q: \"Como acesso a plataforma do Sempre Educa?\"\\nA: \"Para acessar a nossa plataforma de educação, as opções são diferentes dependendo do aparelho em que você deseja entrar.  \\n\\nCaso você faça login pelo aplicativo, não será necessário informar usuário ou senha, pois uma vez acessando o SEMPRE JBS, seu acesso será direcionado para o SEMPRE EDUCA.  \\n\\nCaso você queira acessar pelo computador, você deverá fazer o login informando seu CPF. A próxima tela pedirá um “token”. Você encontra este token no seu aplicativo SEMPRE JBS, clicando em “Meu perfil” no canto superior direito da tela e, na sequência, clicando em “Meu token”.  \\n\\nAtenção! Este código se renova a cada minuto.\"\\n\\n', 'Q: \"Meu farol está com pendências\"\\nA: \"Caso não faça parte das pendências anunciadas, verifique: \\nO relatório que recebeu é atualizado, extraído no mesmo dia da sua consulta.\\nO certificado do curso pode ser emitido. Caso esteja tudo coreto, comunique sua unidade de RH que há uma divergência e eles poderão atuar na mesma.\"\\n\\n', 'Q: \"O que é o Sempre Educa?\"\\nA: \"A plataforma educacional da JBS, acessível a 100% dos colaboradores, com conteúdo e formações voltadas especialmente para cada carreira.\"\\n\\n', 'Q: \"Como gero os meus certificados?\"\\nA: \"Para gerar seu certificado é muito fácil! Ao finalizar o conteúdo de um curso e avaliá-lo, você poderá emitir o seu certificado.  \\n\\nCaso queira consultar os seus cursos concluídos e emitir um certificado, procure “Meus cursos concluídos”, disponível na tela inicial do SEMPRE EDUCA. Lá você verá todos os seus cursos em andamento e finalizados.\"\\n\\n', 'Q: \"Como acesso os meus certificados?\"\\nA: \"Caso queira consultar os seus cursos concluídos e emitir um certificado, procure “Meus cursos concluídos”, disponível na tela inicial do SEMPRE EDUCA. Lá você verá todos os seus cursos em andamento e finalizados.\"\\n\\n', 'Q: \"Conclui o curso e deu erro. O que posso fazer para resolver?\"\\nA: \"Não se preocupe! Este é um problema que pode acontecer em alguns navegadores. Por favor, tente recarregar a página do SEMPRE EDUCA ou abra o site numa guia anônima. Se ainda assim o problema persistir, continue o atendimento neste canal para abrir um chamado com a nossa equipe de suporte.\"\\n\\n', 'Q: \"Meu curso não aparece. O que fazer?\"\\nA: \"Entendemos que você esteja preocupado(a) de não conseguir visualizar seus cursos no SEMPRE EDUCA, vou esclarecer por que isso pode acontecer: \\n\\nO SEMPRE EDUCA disponibiliza cursos de acordo com o perfil definido pelos administradores da plataforma. Podem existir algumas razões pelas quais você não visualiza um curso.  \\n\\nSe você é um colaborador da JBS e deveria estar visualizando um curso já comunicado pelo seu RH, não se preocupe, estou aqui para ajudar! Por favor continue o atendimento neste canal para abrir um chamado com a nossa equipe de suporte.\"\\n\\n[Genéricos]\\n', 'Q: \"Qual a versão atual do aplicativo?\"\\nA: \"Atualmente estamos na versão 1.4.51.\"\\n\\n', 'Q: \"O teclado não está aparecendo. O que fazer?\"\\nA: \"Para resolver esse problema, desinstale e instale seu aplicativo para conseguir voltar ao teclado padrão.\"\\n\\n[Sempre Cuida]\\n', 'Q: \"Quais as pessoas que o Sempre Cuida cobre?\"\\nA: \"Boa notícia! O programa SEMPRE CUIDA oferece serviços de telemedicina e telepsicologia completos, gratuitos e muito práticos e está disponível para todos os colaboradores da JBS e seus dependentes de primeiro grau, como cônjuges/companheiros e filhos.\"\\n\\n', 'Q: \"O que é Sempre Cuida?\"\\nA: \" O Sempre Cuida é o que concentra todas as ações, campanhas e programas de saúde que são realizadas pela área de Saúde e Bem-estar da JBS. Este espaço é dedicado ao cuidado integral da nossa gente, hábitos saudáveis e temas relacionados à prevenção de doenças. O objetivo é incentivar  que cada um de nós seja o protagonista da própria saúde, tanto física quanto mental.\\n\\nPara mais informações sobre o aplicativo ou o programa, ligue para a central de atendimento: 0800-941-6341.\"\\n\\n', 'Q: \"Qual o número do suporte do Sempre Cuida?\"\\nA: \"Para dúvidas sobre o aplicativo ou o programa, ligue para a central de atendimento: 0800-941-6341.\"\\n\\n', 'Q: \"Como acessar o Sempre Cuida?\"\\nA: \"Para ter acesso a diversas especialidades médicas disponíveis no SEMPRE CUIDA siga estes passos: \\n1.      Abra o aplicativo do SEMPRE JBS e no menu principal, clique em SEMPRE CUIDA.  \\n2.      Você será direcionado ao aplicativo da Teladoc.  \\n3.      No aplicativo, clique em “Cadastrar”;  \\n4.      Preencha com seus dados pessoais e crie uma senha. Você pode entrar com seu e-mail pessoal ou profissional.\\n5.      Preencha os dados e, na opção, “empresa pagadora”, selecione JBS.  \\n\\nPronto! Agora você pode aproveitar todos os benefícios.\"\\n\\n[Férias]\\n\\n', 'Q: \"Quem é responsável por agendar minhas férias?\"\\nA: \"Somente os colaboradores que utilizam login de rede conseguem marcar as próprias férias, no restante, o RH e o gestor imediato podem marcar as férias de outro colaborador.\"\\n\\n', 'Q: \"Por que não posso marcar minhas férias com o acesso por CPF?\"\\nA: \"Somente os colaboradores que utilizam login de rede conseguem se conectar ao sistema de férias e marcá-las no aplicativo.\"\\n\\n', 'Q: \"Como que acessa meu recibo de férias?\"\\nA: \"O recibo de férias é liberado, no mínimo, 4 dias antes do início das férias.\"\\n\\n', 'Q: \"Desejo adiantar os meus dias de trabalho\"\\nA: \"Qualquer dúvida sobre férias deve ser tirada diretamente com o RH da sua unidade.\"\\n\\n', 'Q: \"Eu tenho que assinar o aviso das férias?\"\\nA: \"O aviso é disponibilizado para assinatura digital 45 dias antes do início do período de férias e ficará disponível para assinatura até os 30 dias que antecedem as suas férias.\"\\n\\n', 'Q: \"Não assinei o aviso das férias\"\\nA: \"Sem stress! Em caso de não assinar o aviso antes dos 30 dias, o colaborador deve procurar o RH da sua unidade para assinar o aviso fisicamente.\"\\n\\n', 'Q: \"Como fracionar as férias?\"\\nA: \"São elegíveis ao fracionamento de férias os colaboradores que não realizam marcação de ponto nos termos do PROC- PRESI – RH – 0077 – Procedimento do ponto e os colaboradores detentores de cargos administrativos, sujeitos ou não a controle de jornada.\"\\n\\n', 'Q: \"Minhas férias foram recusadas e agora?\"\\nA: \"A aprovação ou não das suas férias são feitas pelo seu líder imediato. Entendo que suas férias são importantes para você, caso aconteça a recusa do seu pedido de férias, não se preocupe! Procure seu líder para entender os motivos e juntos, vocês podem discutir alternativas e reagendar suas férias para um período mais adequado.\"\\n\\n', 'Q: \"Como agendar o recesso da minha equipe?\"\\nA: \"Para aprovar ou agendar as férias da sua equipe, entre em “Sempre Gestor”. Neste módulo, você poderá agendar e aprovar as férias da sua equipe. Lembre-se que o colaborador pode fracionar em até 3 períodos suas férias e existem algumas possibilidades de fracionamento disponíveis no aplicativo, a depender da função do colaborador.\"\\n\\n', 'Q: \"Como agendar o recesso da minha equipe?\"\\nA: \"Para aprovar ou agendar as férias da sua equipe, entre em “Sempre Gestor”. Neste módulo, você poderá agendar e aprovar as férias da sua equipe. Lembre-se que o colaborador pode fracionar em até 3 períodos suas férias e existem algumas possibilidades de fracionamento disponíveis no aplicativo, a depender da função do colaborador.\"\\n\\n', 'Q: \"Como faz para tirar férias?\"\\nA: \"Se você possui usuário, senha de rede e é elegível a agendar suas próprias férias, você deve acessar o SEMPRE JBS, módulo de SEMPRE FACILIDADES (ícone do relógio) e, em seguida, clicar em “Minhas férias”.  \\n\\nVocê terá diversas opções de fracionamento de férias para escolher e alinhar com seu líder. Comece selecionando o período de fracionamento, depois selecione as datas de cada período.  \\n\\nPara continuar, você precisará escolher se deseja antecipar seu 13º salário, clicando em “Sim” ou “Não”.  \\n\\nQuando estiver pronto, clique em “Salvar”. Prontinho! Seu pedido de férias irá para seu líder aprovar.  \\n\\nMas, atenção: caso você queira editar qualquer informação depois da aprovação do seu líder, precisará procurar o RH da unidade/negócio para te apoiar.\\n\\nCaso você não pussui o usuário e senha de rede, não se preocupe! Para os colaboradores que acessam com CPF e senha, devem combinar com seu líder direto ou unidade de RH, o período de férias para que ele insira em sistema. \"\\n\\n[Holerite]\\n\\n', 'Q: \"Meu holerite tá indisponível\"\\nA: \"Não se preocupe! Nós entendemos que receber seus holerites é importante para você.  \\n\\nOs holerites são disponibilizados de acordo com as datas de pagamento. Assim que o holerite estiver disponível você receberá uma notificação do aplicativo, desde que tenha ativado essa opção nas suas configurações. Isso torna o processo mais simples para você!  \\n\\nCaso isso não aconteça, procure o seu líder imediato ou o RH da sua unidade/negócio para verificar e tirar suas dúvidas.\"\\n\\n', 'Q: \"Sai do aplicativo quando eu tento abrir meu holerite\"\\nA: \"Esse tipo de erro ocorre quando definimos um aplicativo padrão para abrir PDF’s e os holerites acabam entrando nesse meio.  \\n\\nMas não se preocupe! Eu te ensino passo a passo de como resolver esse problema: \\n1.      Abra qualquer arquivo PDF; \\n2.      Verifique o nome do aplicativo usado; \\n3.      Acesse as configurações do celular; \\n4.      Toque em “Aplicativos”; \\n5.      Procure pelo app respectivo e toque para ver mais informações; \\n6.      Selecione a aba “Definir como padrão”; \\n7.      Toque em “Apagar padrões”.\"\\n\\n', 'Q: \"O que é contracheque?\"\\nA: \"Holerite ou Recibo de vencimento também conhecido como contracheque, é um demonstrativo impresso de vencimentos de um trabalhador pertencente ao setor público ou privado. Esse é um dos documentos mais importantes disponibilizados por empresa. O holerite pode servir como comprovante de renda para o colaborador.\"\\n\\n', 'Q: \"Não sei minha matrícula\"\\nA: \" Por favor, entre em contato com o seu RH para informar sua matrícula.\"\\n\\n', 'Q: \"Holerite é o mesmo que contracheque?\"\\nA: \"Sim, são somente nomes diferentes.\"\\n\\n', 'Q: \"Qual a diferença de contracheque e o informe de rendimento?\"\\nA: \"O contracheque ou holerite, é um tipo de informe de rendimento mensal e o informe de rendimento informa todos os valores recebidos pelo colaborador no período de 1 ano.\"\\n\\n', 'Q: \"Não consigo acessar meu holerite\"\\nA: \"Se você atualmente trabalha na empresa, siga os seguintes passos:\\n1.      Na tela inicial, acesse o “Sempre Facilidades” (desenho de um relógio) \\n2.      Clique em “Meus holerites” (desenho de dinheiro) \\n\\nPronto! Agora você encontrará todos os seus holerites disponíveis, seja de pagamento de salário mensal, 13º ou outros pagamentos. \\n \\nSe você quiser baixar o documento, siga estes passos: \\n1.      Na tela inicial, acesse o “Sempre Facilidades” (desenho de um relógio) \\n2.      Clique em “Meus holerites” (desenho de dinheiro) \\n3.      Clique no mês desejado \\n4.      Clique no símbolo de download (símbolo de seta para baixo)\\n\\nCaso você tenha saído não consegue mais entrar no aplicativo, pois ao ser desligado, seu login expira. Somente sua antiga unidade de RH tem acesso aos seus documentos (holerites e informes), por favor entre em contato com eles.\"\\n\\n[Sempre Pesquisa]\\n\\n', 'Q: \"Como acesso o Sempre Pesquisa?\"\\nA: \"Para acessar a nossa plataforma de pesquisa, siga as instruções de acordo com o dispositivo que desejar:\\n\\nPelo Aplicativo Sempre:\\nNão é necessário informar seu usuário. Ao acessar o aplicativo SEMPRE JBS, você será automaticamente direcionado para o SEMPRE PESQUISA.\\n\\nPelo Computador:\\nFaça login utilizando apenas o seu CPF.\"\\n\\n', 'Q: \"Quais pessoas possuem acesso ao Sempre Pesquisa?\"\\nA: \"Ótimas notícias! Atualmente o SEMPRE PESQUISA está disponível para 100% dos colaboradores da JBS Brasil.\"\\n\\n', 'Q: \"Quem pode responder a Pesquisa de Clima?\"\\nA: \"A Pesquisa de Clima é destinada à todos os colaboradores da JBS que ingressaram na companhia até o dia 13/8/2024.\"\\n\\n', 'Q: \"Quando começa e quando termina a Pesquisa de Clima?\"\\nA: \"A Pesquisa de Clima JBS 2024 ficará disponível do dia 14/8/2024 à 30/9/2024.\"\\n\\n', 'Q: \"Responder pesquisa\"\\nA: \"Depois de fazer o login você deverá clicar em RESPONDER.\\nVocê poderá responder uma única vez.\\nTodas as respostas são sigilosas e protegidas pela LGPD - Lei Geral de Proteção de Dados Pessoais.\"\\n\\n', 'Q: \"O que é o Sempre Pesquisa\"\\nA: \"O Sempre Pesquisa é a plataforma que nos permite criar formulários que alcançam toda a empresa.\"\\n\\n[Informe de rendimento]\\n\\n', 'Q: \"Onde meu informe de rendimento fica disponível?\"\\nA: \"Consultar seu informe de rendimento é muito fácil! Siga estas instruções:\\n1.      Clique no ícone do SEMPRE FACILIDADES (desenho de relógio) \\n2.      Clique em “Meus informes de rendimento” \\n\\nCom apenas esses passos, você pode acessar seus informes de rendimento a qualquer momento!\"\\n\\n', 'Q: \"Quando meu informe de rendimento fica disponível?\"\\nA: \"O informe de rendimento é disponibilizado anualmente no aplicativo da data estabelecida pela equipe de Administração de Pessoas. Fique atento as campanhas de comunicação com as respectivas datas a cada ano.\"\\n\\n', 'Q: \"O que é o informe de rendimento?\"\\nA: \" Um informe de rendimentos\\xa0serve para informar todos os valores recebidos pelo colaborador no período de 1 ano.\"\\n\\n', 'Q: \"Para que utiliza o informe de rendimento\"\\nA: \"O informe de rendimento é um documento que garante a correta declaração de valores para o imposto de renda.\"\\n\\n', 'Q: \"Como faço meu imposto de renda?\"\\nA: \"O imposto de renda é realizado por conta própria do colaborador\"']\n"
     ]
    }
   ],
   "source": [
    "faq = \"\"\n",
    "\n",
    "with open('faq.txt', 'r', encoding='utf-8') as file:\n",
    "        faq = file.read()\n",
    "\n",
    "documents = re.split(r'(?=Q: )', faq)\n",
    "\n",
    "for i in reversed(documents):\n",
    "    if i == \"\":\n",
    "        documents.remove(i)\n",
    "\n",
    "print(documents)"
   ]
  },
  {
   "cell_type": "markdown",
   "metadata": {},
   "source": [
    "Conexão com o ChromaDB"
   ]
  },
  {
   "cell_type": "code",
   "execution_count": 3,
   "metadata": {},
   "outputs": [],
   "source": [
    "client = chromadb.Client()\n",
    "collection = client.create_collection(name=\"docs\")\n",
    "\n",
    "# Guardar os documentos em um vetor para embedding \n",
    "for i, d in enumerate(documents):\n",
    "    response = ollama.embed(model=\"mxbai-embed-large\", input=d)\n",
    "    embeddings = response[\"embeddings\"]\n",
    "    collection.add(\n",
    "        ids=[str(i)],\n",
    "        embeddings=embeddings,\n",
    "        documents=[d]\n",
    "    )"
   ]
  },
  {
   "cell_type": "markdown",
   "metadata": {},
   "source": [
    "Configuração de Tools"
   ]
  },
  {
   "cell_type": "code",
   "execution_count": 4,
   "metadata": {},
   "outputs": [],
   "source": [
    "class EmbeddingInput(BaseModel):\n",
    "    question: str = Field(..., description=\"A pergunta do usuário que requer informações técnicas ou dados.\")\n",
    "\n",
    "class EmbeddingTool(BaseTool):\n",
    "    name: str = \"Embedding\"\n",
    "    description: str = (\n",
    "        \"Útil quando o usuário precisa de informações técnicas ou qualquer pergunta que exija dados para fornecer uma resposta.\"\n",
    "    )\n",
    "    args_schema: Type[BaseModel] = EmbeddingInput\n",
    "\n",
    "    def _get_embedding(self, text: str):\n",
    "        \"\"\"Gera embedding para o texto fornecido.\"\"\"\n",
    "        try:\n",
    "            response = ollama.embed(model=\"mxbai-embed-large\", input=text)\n",
    "            return response[\"embeddings\"][0]\n",
    "        except Exception as e:\n",
    "            raise ValueError(f\"Erro ao gerar embedding: {str(e)}\")\n",
    "\n",
    "    def _query_collection(self, embedding, num_results=1):\n",
    "        \"\"\"Consulta o ChromaDB usando o embedding fornecido.\"\"\"\n",
    "        try:\n",
    "            results = collection.query(\n",
    "                query_embeddings=[embedding],\n",
    "                n_results=num_results\n",
    "            )\n",
    "            return results\n",
    "        except Exception as e:\n",
    "            raise ValueError(f\"Erro ao consultar o ChromaDB: {str(e)}\")\n",
    "\n",
    "    def _run(\n",
    "        self,\n",
    "        question: Optional[str] = None,\n",
    "        run_manager: Optional[CallbackManagerForToolRun] = None,\n",
    "    ) -> str:\n",
    "        \"\"\"Obtém informações relevantes para a pergunta.\"\"\"\n",
    "        if not question:\n",
    "            return \"Nenhuma pergunta foi fornecida.\"\n",
    "\n",
    "        try:\n",
    "            embedding = self._get_embedding(question)\n",
    "\n",
    "            results = self._query_collection(embedding, num_results=1)\n",
    "\n",
    "            if results and results[\"documents\"]:\n",
    "                return (\n",
    "                    f\"Use esta informação para responder à pergunta. \"\n",
    "                    f\"Se nenhuma informação relevante for encontrada, informe o usuário que não foi possível responder. \"\n",
    "                    f\"Informação: {results['documents'][0][0]}\"\n",
    "                )\n",
    "            else:\n",
    "                return \"Nenhuma informação relevante foi encontrada para responder à pergunta.\"\n",
    "        \n",
    "        except ValueError as e:\n",
    "            return str(e)\n",
    "        except Exception as e:\n",
    "            return f\"Erro ao processar a pergunta: {str(e)}\"\n"
   ]
  },
  {
   "cell_type": "code",
   "execution_count": 5,
   "metadata": {},
   "outputs": [],
   "source": [
    "response = (\n",
    "    \"Crie uma resposta final e pergunte se há alguma dúvida sobre o aplicativo SEMPRE JBS\"\n",
    ")\n",
    "\n",
    "\n",
    "class SmalltalkInput(BaseModel):\n",
    "    query: Optional[str] = Field(description=\"consulta do usuário\")\n",
    "\n",
    "\n",
    "class SmalltalkTool(BaseTool):\n",
    "    name: str = \"Smalltalk\"\n",
    "    description: str = \"Útil quando o usuário cumprimenta você ou quer bater papo\"\n",
    "    args_schema: Type[BaseModel] = SmalltalkInput\n",
    "\n",
    "    def _run(\n",
    "        self,\n",
    "        query: Optional[str] = None,\n",
    "        run_manager: Optional[CallbackManagerForToolRun] = None,\n",
    "    ) -> str:\n",
    "        \"\"\"Use a ferramenta.\"\"\"\n",
    "        return response\n",
    "\n",
    "    async def _arun(\n",
    "        self,\n",
    "        query: Optional[str] = None,\n",
    "        run_manager: Optional[AsyncCallbackManagerForToolRun] = None,\n",
    "    ) -> str:\n",
    "        \"\"\"Use a ferramenta de forma assíncrona.\"\"\"\n",
    "        return response\n"
   ]
  },
  {
   "cell_type": "code",
   "execution_count": 6,
   "metadata": {},
   "outputs": [],
   "source": [
    "tools = [EmbeddingTool(), SmalltalkTool()]"
   ]
  },
  {
   "cell_type": "markdown",
   "metadata": {},
   "source": [
    "Configuração da LLM"
   ]
  },
  {
   "cell_type": "code",
   "execution_count": 7,
   "metadata": {},
   "outputs": [],
   "source": [
    "llm = ChatOllama(\n",
    "model='llama3.1',\n",
    "temperature=0,\n",
    ")"
   ]
  },
  {
   "cell_type": "markdown",
   "metadata": {},
   "source": [
    "System Prompts e Question"
   ]
  },
  {
   "cell_type": "code",
   "execution_count": 8,
   "metadata": {},
   "outputs": [],
   "source": [
    "system_prompt_tool_call = \"\"\"\n",
    "Você é um agente de chamada de ferramentas, seu papel é escolher uma ferramenta para resolver a dúvida do usuário.\n",
    "\n",
    "Você tem acesso às seguintes ferramentas: \n",
    "{tools_description_and_args}\n",
    "Você deve escolher a ferramenta que melhor se adequa à situação.\n",
    "Não se preocupe, você tem acesso a todas as informações sobre as quais for questionado.\n",
    "\"\"\"\n",
    "\n",
    "\n",
    "system_prompt_model = \"\"\"\n",
    "Contexto: Você é um assistente virtual treinado para ajudar os colaboradores da empresa JBS a esclarecer dúvidas ou resolver problemas sobre os valores da empresa ou o aplicativo de RH chamado Sempre JBS.\n",
    "Restrito aos dados fornecidos: Responda exclusivamente com base nas informações apresentadas nos exemplos. Não inclua suposições, interpretações ou dados adicionais que não estejam explicitamente descritos nos exemplos fornecidos.\n",
    "Conciso e direto: Responda de forma objetiva e clara.\n",
    "Idioma: Sempre em PT-BR.\n",
    "Tratamento de casos específicos:\n",
    "- Informações não encontradas ou perguntas fora do contexto: \"Não localizei essa informação no documento disponível. Por favor, entre em contato com o RH para mais detalhes.\"\n",
    "- Perguntas irrelevantes: \"Esta pergunta não se refere aos valores da JBS ou ao aplicativo Sempre JBS. Portanto, não posso respondê-la.\"\n",
    "- Perguntas ambíguas: \"Por favor, forneça mais detalhes para que eu possa responder com precisão.\"\n",
    "Tom da resposta: Formal e educado.\n",
    "\n",
    "Encontre as informações necessárias para a formulação da resposta nesses exemplos disponíveis: {tool_response}\n",
    "\n",
    "Responda à pergunta em PT-BR:\n",
    "\"\"\"\n",
    "\n",
    "question = \"Como instalar o Sempre JBS?\""
   ]
  },
  {
   "cell_type": "markdown",
   "metadata": {},
   "source": [
    "Funções de Execução"
   ]
  },
  {
   "cell_type": "code",
   "execution_count": 11,
   "metadata": {},
   "outputs": [],
   "source": [
    "def get_tool_call(llm, system_prompt, question, tools):\n",
    "    system_prompt_formatted = system_prompt.format(tools_description_and_args=render_text_description_and_args(tools).replace('{', '{{').replace('}', '}}'))\n",
    "    llm_with_tools = llm.bind_tools(tools)\n",
    "    messages =  [(\"system\", system_prompt_formatted), (\"human\", question)]\n",
    "    tool_call = llm_with_tools.invoke(messages)\n",
    "\n",
    "    return tool_call\n",
    "\n",
    "def get_tool_response(function_name, function_arguments):    \n",
    "    if function_name == \"Embedding\":\n",
    "        tool_response = EmbeddingTool()._run(question=function_arguments['question'])\n",
    "    elif function_name == \"SmallTalk\":\n",
    "        tool_response = SmalltalkTool()._run(query=function_arguments['question'])\n",
    "    else:\n",
    "        tool_response = None\n",
    "\n",
    "    return tool_response\n",
    "\n",
    "def get_model_response(llm, tool_response, system_prompt, question):\n",
    "    system_prompt_formatted = system_prompt.format(tool_response=tool_response)\n",
    "    messages = [(\"system\", system_prompt_formatted), (\"human\", question)]\n",
    "    model_response = llm.invoke(messages)\n",
    "    \n",
    "    return model_response"
   ]
  },
  {
   "cell_type": "markdown",
   "metadata": {},
   "source": [
    "Execução do Agente"
   ]
  },
  {
   "cell_type": "code",
   "execution_count": 12,
   "metadata": {},
   "outputs": [],
   "source": [
    "tool_call = get_tool_call(llm, system_prompt_tool_call, question, tools)\n",
    "\n",
    "tool_calls = tool_call.tool_calls\n",
    "for tool_call in tool_calls:\n",
    "    function_name = tool_call['name']\n",
    "    arguments = tool_call['args']"
   ]
  },
  {
   "cell_type": "code",
   "execution_count": 13,
   "metadata": {},
   "outputs": [],
   "source": [
    "tool_response = get_tool_response(function_name, arguments)"
   ]
  },
  {
   "cell_type": "code",
   "execution_count": 14,
   "metadata": {},
   "outputs": [
    {
     "data": {
      "text/plain": [
       "'Para instalar o Sempre JBS, você pode seguir os links fornecidos abaixo:\\n\\n* Para Android: https://play.google.com/store/apps/details?id=br.com.jbs.rh.comvoce&hl=pt_BR&gl=US\\n* Para IOS: botm.cc/l/8eQNDoj\\n\\nEsses links direcionam para as lojas de aplicativos correspondentes, onde você pode baixar e instalar o Sempre JBS.'"
      ]
     },
     "execution_count": 14,
     "metadata": {},
     "output_type": "execute_result"
    }
   ],
   "source": [
    "model_response = get_model_response(llm, tool_response, system_prompt_model, question)\n",
    "model_response.content"
   ]
  }
 ],
 "metadata": {
  "kernelspec": {
   "display_name": "Python 3",
   "language": "python",
   "name": "python3"
  },
  "language_info": {
   "codemirror_mode": {
    "name": "ipython",
    "version": 3
   },
   "file_extension": ".py",
   "mimetype": "text/x-python",
   "name": "python",
   "nbconvert_exporter": "python",
   "pygments_lexer": "ipython3",
   "version": "3.13.1"
  }
 },
 "nbformat": 4,
 "nbformat_minor": 2
}
